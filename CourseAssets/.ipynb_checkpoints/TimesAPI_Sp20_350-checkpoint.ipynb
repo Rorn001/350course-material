{
  "nbformat": 4,
  "nbformat_minor": 0,
  "metadata": {
    "colab": {
      "name": "TimesAPI-Sp20-350.ipynb",
      "provenance": [],
      "private_outputs": true,
      "collapsed_sections": []
    },
    "kernelspec": {
      "name": "python3",
      "display_name": "Python 3"
    }
  },
  "cells": [
    {
      "cell_type": "markdown",
      "metadata": {
        "id": "0L0fH5B88hvp",
        "colab_type": "text"
      },
      "source": [
        "# Data on bestselling books via the Times API \n",
        "The New York Times makes its data available via API calls. The instructions we will be following in this notebook can be found in their developer portal, which they call [The New York Times Developer Network](https://developer.nytimes.com/). Its slogan is,\n",
        "\n",
        "> All the APIs Fit to POST\"\n",
        "\n",
        "Before proceeding further in this notebook, follow the instructions in the [getting started](https://developer.nytimes.com/get-started) section of the developer network linked above.\n",
        "\n",
        "## Getting started\n",
        "After you sign in, you will need to create an \"App\". You are not actually creating an application here, rather, you are creating an API key that you would use in an application. As we will use the API key in a Jupyter notebook, for us, the \"App\" in this case is actually this notebook.\n",
        "\n",
        "For example, I named mine `notebook` and described it as a `JupyterNotebook`.\n",
        "\n",
        "![My Apps](https://storage.googleapis.com/jacobson-dsc-bucket1/TimesAPINotebook/Screenshot%202020-03-09%20at%2011.56.20%20AM%20-%20Display%201.png)\n",
        "\n",
        "### Which APIs?\n",
        "Next, activate at least one API. I suggest you activate all of them, since we will want to experiment with them all. Use the toggles to activate an API.\n",
        "\n",
        "![Activate APIs](https://storage.googleapis.com/jacobson-dsc-bucket1/TimesAPINotebook/Screenshot%202020-03-09%20at%2012.06.24%20PM%20-%20Display%201.png)\n",
        "\n",
        "### API key and `getpass`\n",
        "Below, we are using a python package called getpass. On the first line of the code cell below, `import getpass` will load all of the functions that are available in the getpass package into memory on our notebook's machine. \n",
        "\n",
        "Then, we use the function `getpass()` by referring to where it is located with `getpass.getpass()` and storing the output of that function in a variable we are calling `APIKEY`.\n",
        "\n",
        "##### Why are we doing this?\n",
        "If you paste your key into this notebook as a variable directly, for instance with a line of code like\n",
        "\n",
        "`APIKEY = A3sw3H67rDhN`\n",
        "\n",
        "and then save your notebook in your GitHub repo, or anywhere publically available, webscraping bots will find it and can use it for malicious purposes. Of course, with this particular API, the worst that can happen is that your quota of free API calls to the NYT is used up. However, if you had a paid account that could be a more serious issue.\n",
        "\n",
        "The solution is to copy the API key,then execute the cell below and paste it into the input box that appears. In this way, you can save your notebook without the key being saved with it. "
      ]
    },
    {
      "cell_type": "code",
      "metadata": {
        "id": "Rp8gbY1W8ZFU",
        "colab_type": "code",
        "colab": {}
      },
      "source": [
        "import getpass\n",
        "APIKEY = getpass.getpass()"
      ],
      "execution_count": null,
      "outputs": []
    },
    {
      "cell_type": "markdown",
      "metadata": {
        "id": "CR1cJrvtaqlt",
        "colab_type": "text"
      },
      "source": [
        "Now, if you type in a code cell `APIKEY` and execute the cell, you should see as output the *Key* that you copied from the NYT developer network. Try it in the cell below. Then delete the output as you don't want the key to be saved in the notebook."
      ]
    },
    {
      "cell_type": "code",
      "metadata": {
        "id": "wCx4tTLcbAu7",
        "colab_type": "code",
        "colab": {}
      },
      "source": [
        "APIKEY"
      ],
      "execution_count": null,
      "outputs": []
    },
    {
      "cell_type": "markdown",
      "metadata": {
        "id": "3kIeZe5_bBHr",
        "colab_type": "text"
      },
      "source": [
        "## Making API calls using the command line.\n",
        "Recall from the Qwiklab [Introduction to APIs in Google](https://www.qwiklabs.com/focuses/3473?parent=catalog), we used the command line and the curl to make API requests. \n",
        "\n",
        "### Books review service API\n",
        "Let's start by making a GET request.\n",
        "\n",
        "Note, any command that you used in the GCP cloud shell, you can use in a code cell here. Indeed, in a Jupyter Notebook, you execute shell commands by placing them in a code cell with `!` in front of the command. \n",
        "\n",
        "The first example demonstrates a simple curl command that makes a GET request for the current bestsellers in the hardcover fiction category."
      ]
    },
    {
      "cell_type": "code",
      "metadata": {
        "id": "mE22h7-WGsSq",
        "colab_type": "code",
        "colab": {}
      },
      "source": [
        "!curl --request GET \"https://api.nytimes.com/svc/books/v3/lists/current/hardcover-fiction.json?api-key=$APIKEY\""
      ],
      "execution_count": null,
      "outputs": []
    },
    {
      "cell_type": "markdown",
      "metadata": {
        "id": "UoeFEKDy0guv",
        "colab_type": "text"
      },
      "source": [
        "### Viewing the JSON\n",
        "There are Python based tools for viewing the JSON, but first let's explore our request using a [browser-based viewer](https://jsonformatter.curiousconcept.com/).\n",
        "\n",
        "Copy and past the output above into the viewer.\n",
        "\n",
        "Recall that a JSON consists of key-value pairs. What are some of the keys and their values? Under what key do the find the actual information on the bestselling books?"
      ]
    },
    {
      "cell_type": "markdown",
      "metadata": {
        "id": "UD-mPuF0euzE",
        "colab_type": "text"
      },
      "source": [
        "### Saving and filtering the results of a request\n",
        "The output is in json format, but it is really hard to read. Let's save it to another file. Then we will use another tool to filter the json file down to the information we are interested in.\n",
        "#### Saving output\n",
        "To save the output, we add another argument to the curl command, `-o`, and then after it, we write a name for the file. Below you can see that I chose the name `current-hardcover-fiction.json` so that the filename will remind me of what I put there.\n",
        "\n",
        "After executing the cell below, the output of our request will be stored in that file.\n"
      ]
    },
    {
      "cell_type": "code",
      "metadata": {
        "id": "FbAq_g70e_e3",
        "colab_type": "code",
        "colab": {}
      },
      "source": [
        "!curl --request GET -o current-hardcover-fiction.json \"https://api.nytimes.com/svc/books/v3/lists/current/hardcover-fiction.json?api-key=$APIKEY\""
      ],
      "execution_count": null,
      "outputs": []
    },
    {
      "cell_type": "markdown",
      "metadata": {
        "id": "2z0lbOyIfGoV",
        "colab_type": "text"
      },
      "source": [
        "Now let's check and see with the `ls` command that a new json file exists. Note, `ls` is short for *list* as it lists all files and folders in your current folder of the notebook's machine."
      ]
    },
    {
      "cell_type": "code",
      "metadata": {
        "id": "T-9E1xRMfWIU",
        "colab_type": "code",
        "colab": {}
      },
      "source": [
        "!ls"
      ],
      "execution_count": null,
      "outputs": []
    },
    {
      "cell_type": "markdown",
      "metadata": {
        "id": "jYyAoLsM2t1R",
        "colab_type": "text"
      },
      "source": [
        "## Viewing and filtering the JSON with `jq`\n",
        "What is [`jq`](https://stedolan.github.io/jq/)? It is a command line tool for  slicing, filtering, transforming JSON data. \n",
        "\n",
        "First we install it with the cell below."
      ]
    },
    {
      "cell_type": "code",
      "metadata": {
        "id": "LEcDegKy2-wB",
        "colab_type": "code",
        "colab": {}
      },
      "source": [
        "!sudo apt-get install jq"
      ],
      "execution_count": null,
      "outputs": []
    },
    {
      "cell_type": "markdown",
      "metadata": {
        "id": "lWG5lEnD5u7I",
        "colab_type": "text"
      },
      "source": [
        "Next, we *redirect* our file to `jq` with the `<` symbol.  "
      ]
    },
    {
      "cell_type": "code",
      "metadata": {
        "id": "Xvr1jmAF2I3H",
        "colab_type": "code",
        "colab": {}
      },
      "source": [
        "!jq < current-hardcover-fiction.json"
      ],
      "execution_count": null,
      "outputs": []
    },
    {
      "cell_type": "markdown",
      "metadata": {
        "id": "gc8ntgU16Xqe",
        "colab_type": "text"
      },
      "source": [
        "### Filtering using `jq`\n",
        "To filter based on key, use `jq '.key'`, where `.key` is one of the keys from the JSON file, and `jq` will return the corresponding values in the JSON. For example, we filter on the key `num_results` in the cell below."
      ]
    },
    {
      "cell_type": "code",
      "metadata": {
        "id": "l845wOng7wdy",
        "colab_type": "code",
        "colab": {}
      },
      "source": [
        "!jq '.num_results' < current-hardcover-fiction.json"
      ],
      "execution_count": null,
      "outputs": []
    },
    {
      "cell_type": "markdown",
      "metadata": {
        "id": "fsmY23LD74y8",
        "colab_type": "text"
      },
      "source": [
        "Next, let's look at the values for the key, `results`."
      ]
    },
    {
      "cell_type": "code",
      "metadata": {
        "id": "WkfRyKLz8MZY",
        "colab_type": "code",
        "colab": {}
      },
      "source": [
        "!jq '.results' < current-hardcover-fiction.json"
      ],
      "execution_count": null,
      "outputs": []
    },
    {
      "cell_type": "markdown",
      "metadata": {
        "id": "DvNyTe0q9uS5",
        "colab_type": "text"
      },
      "source": [
        "Let's dig deeper and look at the values for the key `books`. Since `books` is a key that is within the values of the key `results`, we will *pipe*, using the `|` symbol, the output of the `.results` filter to the `.books` filter. "
      ]
    },
    {
      "cell_type": "code",
      "metadata": {
        "id": "ELaTH7ia92py",
        "colab_type": "code",
        "colab": {}
      },
      "source": [
        "!jq '.results | .books' < current-hardcover-fiction.json"
      ],
      "execution_count": null,
      "outputs": []
    },
    {
      "cell_type": "markdown",
      "metadata": {
        "id": "SqhIjFAtwPFu",
        "colab_type": "text"
      },
      "source": [
        "Let's get a really precise answer to the following question using this API.\n",
        "\n",
        "## How long do books stay on the bestsellers list?\n",
        "As we saw above, we can extract the values for the key `weeks_on_list` from the values in books.\n",
        "\n",
        "Next, we will arrange these values into a csv file and answer some questions using spreadsheets."
      ]
    },
    {
      "cell_type": "code",
      "metadata": {
        "id": "PWCeWINUAR9V",
        "colab_type": "code",
        "colab": {}
      },
      "source": [
        "!jq '.results | .books' < current-hardcover-fiction.json > bestsellers.json"
      ],
      "execution_count": null,
      "outputs": []
    },
    {
      "cell_type": "markdown",
      "metadata": {
        "id": "_mbw0KLeAr1g",
        "colab_type": "text"
      },
      "source": [
        "What was going on in the cell above? There are two redirections. The first we had seen before. Then, the JSON ouput from `jq '.results | .books' < current-hardcover-fiction.json` gets redirected to a new file that I have chosen to call `bestsellers.json` and saved. Let's check that it was created by listing the files and directories."
      ]
    },
    {
      "cell_type": "code",
      "metadata": {
        "id": "bMGPZWN0AgoE",
        "colab_type": "code",
        "colab": {}
      },
      "source": [
        "!ls"
      ],
      "execution_count": null,
      "outputs": []
    },
    {
      "cell_type": "markdown",
      "metadata": {
        "id": "XQxO2rg2BBEY",
        "colab_type": "text"
      },
      "source": [
        "# From JSON to csv\n",
        "For working with structured data in notebooks, the most popular and full-featured packages is `pandas`.  Some say that the name is short for *panel data* which you might have heard of in an econometrics class, and others say it's the favorite animal of [Wes McKinney](https://en.wikipedia.org/wiki/Wes_McKinney), its creator. All you need to know is (at least at the moment) that it can tranform our JSON into a csv file.\n",
        "\n",
        "First we import the pandas package. It is a common convention to import it under the *alias* `pd` so that you do not need to type pandas over and over again when referring back to the package name. "
      ]
    },
    {
      "cell_type": "code",
      "metadata": {
        "id": "ryWTAEdQBuV0",
        "colab_type": "code",
        "colab": {}
      },
      "source": [
        "import pandas as pd"
      ],
      "execution_count": null,
      "outputs": []
    },
    {
      "cell_type": "markdown",
      "metadata": {
        "id": "nrKCU57MCDCH",
        "colab_type": "text"
      },
      "source": [
        "Then, we use the `read_json()` function in pandas to transform our filtered JSON into a *dataframe*."
      ]
    },
    {
      "cell_type": "code",
      "metadata": {
        "id": "qLOhVPw2CSXk",
        "colab_type": "code",
        "colab": {}
      },
      "source": [
        "pd.read_json('bestsellers.json')"
      ],
      "execution_count": null,
      "outputs": []
    },
    {
      "cell_type": "markdown",
      "metadata": {
        "id": "bvBaiQU1BqB3",
        "colab_type": "text"
      },
      "source": [
        "Great, now what?\n",
        "\n",
        "First, let's save the dataframe as a Python variable, which we will call `df`, so that we can use it for more purposes than just viewing."
      ]
    },
    {
      "cell_type": "code",
      "metadata": {
        "id": "ycsBFl7zEA8_",
        "colab_type": "code",
        "colab": {}
      },
      "source": [
        "df = pd.read_json('bestsellers.json')"
      ],
      "execution_count": null,
      "outputs": []
    },
    {
      "cell_type": "markdown",
      "metadata": {
        "id": "bOyMsY3OD_7e",
        "colab_type": "text"
      },
      "source": [
        "\n",
        "\n",
        "A dataframe consists of a *header*, where you find the names of the *columns*, *rows* where you find the values in those columns, and an *index* where you can find the row number. So this includes the information you find in a csv. Indeed, we can write this to a .csv file with the following pandas function."
      ]
    },
    {
      "cell_type": "code",
      "metadata": {
        "id": "NI_y-BpODLfV",
        "colab_type": "code",
        "colab": {}
      },
      "source": [
        "df.to_csv('bestsellers.csv')"
      ],
      "execution_count": null,
      "outputs": []
    },
    {
      "cell_type": "markdown",
      "metadata": {
        "id": "7HyGgH8bEW7V",
        "colab_type": "text"
      },
      "source": [
        "Let's check that the file was created. "
      ]
    },
    {
      "cell_type": "code",
      "metadata": {
        "id": "stkc2kQTELzN",
        "colab_type": "code",
        "colab": {}
      },
      "source": [
        "!ls"
      ],
      "execution_count": null,
      "outputs": []
    }
  ]
}