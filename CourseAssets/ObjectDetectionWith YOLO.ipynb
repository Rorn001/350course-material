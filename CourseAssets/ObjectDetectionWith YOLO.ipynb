{
 "cells": [
  {
   "cell_type": "markdown",
   "metadata": {},
   "source": [
    "# Object Detection with YOLO\n",
    "Here we present an example from the [Accelerated Computer Vision class offered by Rachel Hu](https://github.com/aws-samples/aws-machine-learning-university-accelerated-cv).\n",
    "\n",
    "As mentioned previously, there is a constant stream of new models coming to the forefront of practice in machine learning. Below a Python library for machine learning called `gluoncv` and the `model_zoo` it includes is used in order to try out how these new models compare in image recognition tasks to the AWS Rekognition API."
   ]
  },
  {
   "cell_type": "markdown",
   "metadata": {},
   "source": [
    "After installing this library, we start by importing the relevant packages."
   ]
  },
  {
   "cell_type": "code",
   "execution_count": 2,
   "metadata": {},
   "outputs": [
    {
     "name": "stdout",
     "output_type": "stream",
     "text": [
      "\u001b[33mWARNING: You are using pip version 20.0.2; however, version 20.2.3 is available.\n",
      "You should consider upgrading via the '/home/ec2-user/anaconda3/envs/mxnet_p36/bin/python -m pip install --upgrade pip' command.\u001b[0m\n"
     ]
    }
   ],
   "source": [
    "!pip install -q gluoncv"
   ]
  },
  {
   "cell_type": "code",
   "execution_count": 4,
   "metadata": {},
   "outputs": [],
   "source": [
    "from gluoncv import model_zoo"
   ]
  },
  {
   "cell_type": "markdown",
   "metadata": {},
   "source": [
    "Next we load `yolo_darknet53_voc` as the model that we will use.  For more pretrained models, please refer to [GluonCV Model Zoo](https://gluon-cv.mxnet.io/model_zoo/index.html)."
   ]
  },
  {
   "cell_type": "code",
   "execution_count": 5,
   "metadata": {},
   "outputs": [
    {
     "name": "stdout",
     "output_type": "stream",
     "text": [
      "Downloading /home/ec2-user/.mxnet/models/yolo3_darknet53_voc-f5ece5ce.zip from https://apache-mxnet.s3-accelerate.dualstack.amazonaws.com/gluon/models/yolo3_darknet53_voc-f5ece5ce.zip...\n"
     ]
    },
    {
     "name": "stderr",
     "output_type": "stream",
     "text": [
      "223070KB [00:03, 56302.35KB/s]                            \n"
     ]
    }
   ],
   "source": [
    "net = model_zoo.get_model('yolo3_darknet53_voc', pretrained=True)"
   ]
  },
  {
   "cell_type": "markdown",
   "metadata": {},
   "source": [
    "To apply the model, we need to transform the image we are inputting into the model to a format that the model is built to accept. For that we import another package and use a function which is built to do this called `load_test`. This function returns two results. The first is a ndarray with shape (batch_size, RGB_channels, height, width). It can be fed into the model directly. The second one contains the images in numpy format. "
   ]
  },
  {
   "cell_type": "code",
   "execution_count": 8,
   "metadata": {},
   "outputs": [],
   "source": [
    "from gluoncv.data.transforms.presets import yolo"
   ]
  },
  {
   "cell_type": "code",
   "execution_count": 25,
   "metadata": {},
   "outputs": [],
   "source": [
    "x, img = yolo.load_test('jeremyjacobson.png')"
   ]
  },
  {
   "cell_type": "markdown",
   "metadata": {},
   "source": [
    "Now, we apply  our model like any other Python function."
   ]
  },
  {
   "cell_type": "code",
   "execution_count": 13,
   "metadata": {},
   "outputs": [
    {
     "data": {
      "text/plain": [
       "(\n",
       " [[[14.]\n",
       "   [14.]\n",
       "   [-1.]\n",
       "   [-1.]\n",
       "   [-1.]\n",
       "   [-1.]\n",
       "   [-1.]\n",
       "   [-1.]\n",
       "   [-1.]\n",
       "   [-1.]\n",
       "   [-1.]\n",
       "   [-1.]\n",
       "   [-1.]\n",
       "   [-1.]\n",
       "   [-1.]\n",
       "   [-1.]\n",
       "   [-1.]\n",
       "   [-1.]\n",
       "   [-1.]\n",
       "   [-1.]\n",
       "   [-1.]\n",
       "   [-1.]\n",
       "   [-1.]\n",
       "   [-1.]\n",
       "   [-1.]\n",
       "   [-1.]\n",
       "   [-1.]\n",
       "   [-1.]\n",
       "   [-1.]\n",
       "   [-1.]\n",
       "   [-1.]\n",
       "   [-1.]\n",
       "   [-1.]\n",
       "   [-1.]\n",
       "   [-1.]\n",
       "   [-1.]\n",
       "   [-1.]\n",
       "   [-1.]\n",
       "   [-1.]\n",
       "   [-1.]\n",
       "   [-1.]\n",
       "   [-1.]\n",
       "   [-1.]\n",
       "   [-1.]\n",
       "   [-1.]\n",
       "   [-1.]\n",
       "   [-1.]\n",
       "   [-1.]\n",
       "   [-1.]\n",
       "   [-1.]\n",
       "   [-1.]\n",
       "   [-1.]\n",
       "   [-1.]\n",
       "   [-1.]\n",
       "   [-1.]\n",
       "   [-1.]\n",
       "   [-1.]\n",
       "   [-1.]\n",
       "   [-1.]\n",
       "   [-1.]\n",
       "   [-1.]\n",
       "   [-1.]\n",
       "   [-1.]\n",
       "   [-1.]\n",
       "   [-1.]\n",
       "   [-1.]\n",
       "   [-1.]\n",
       "   [-1.]\n",
       "   [-1.]\n",
       "   [-1.]\n",
       "   [-1.]\n",
       "   [-1.]\n",
       "   [-1.]\n",
       "   [-1.]\n",
       "   [-1.]\n",
       "   [-1.]\n",
       "   [-1.]\n",
       "   [-1.]\n",
       "   [-1.]\n",
       "   [-1.]\n",
       "   [-1.]\n",
       "   [-1.]\n",
       "   [-1.]\n",
       "   [-1.]\n",
       "   [-1.]\n",
       "   [-1.]\n",
       "   [-1.]\n",
       "   [-1.]\n",
       "   [-1.]\n",
       "   [-1.]\n",
       "   [-1.]\n",
       "   [-1.]\n",
       "   [-1.]\n",
       "   [-1.]\n",
       "   [-1.]\n",
       "   [-1.]\n",
       "   [-1.]\n",
       "   [-1.]\n",
       "   [-1.]\n",
       "   [-1.]]]\n",
       " <NDArray 1x100x1 @cpu(0)>,\n",
       " \n",
       " [[[ 0.99293345]\n",
       "   [ 0.01254434]\n",
       "   [-1.        ]\n",
       "   [-1.        ]\n",
       "   [-1.        ]\n",
       "   [-1.        ]\n",
       "   [-1.        ]\n",
       "   [-1.        ]\n",
       "   [-1.        ]\n",
       "   [-1.        ]\n",
       "   [-1.        ]\n",
       "   [-1.        ]\n",
       "   [-1.        ]\n",
       "   [-1.        ]\n",
       "   [-1.        ]\n",
       "   [-1.        ]\n",
       "   [-1.        ]\n",
       "   [-1.        ]\n",
       "   [-1.        ]\n",
       "   [-1.        ]\n",
       "   [-1.        ]\n",
       "   [-1.        ]\n",
       "   [-1.        ]\n",
       "   [-1.        ]\n",
       "   [-1.        ]\n",
       "   [-1.        ]\n",
       "   [-1.        ]\n",
       "   [-1.        ]\n",
       "   [-1.        ]\n",
       "   [-1.        ]\n",
       "   [-1.        ]\n",
       "   [-1.        ]\n",
       "   [-1.        ]\n",
       "   [-1.        ]\n",
       "   [-1.        ]\n",
       "   [-1.        ]\n",
       "   [-1.        ]\n",
       "   [-1.        ]\n",
       "   [-1.        ]\n",
       "   [-1.        ]\n",
       "   [-1.        ]\n",
       "   [-1.        ]\n",
       "   [-1.        ]\n",
       "   [-1.        ]\n",
       "   [-1.        ]\n",
       "   [-1.        ]\n",
       "   [-1.        ]\n",
       "   [-1.        ]\n",
       "   [-1.        ]\n",
       "   [-1.        ]\n",
       "   [-1.        ]\n",
       "   [-1.        ]\n",
       "   [-1.        ]\n",
       "   [-1.        ]\n",
       "   [-1.        ]\n",
       "   [-1.        ]\n",
       "   [-1.        ]\n",
       "   [-1.        ]\n",
       "   [-1.        ]\n",
       "   [-1.        ]\n",
       "   [-1.        ]\n",
       "   [-1.        ]\n",
       "   [-1.        ]\n",
       "   [-1.        ]\n",
       "   [-1.        ]\n",
       "   [-1.        ]\n",
       "   [-1.        ]\n",
       "   [-1.        ]\n",
       "   [-1.        ]\n",
       "   [-1.        ]\n",
       "   [-1.        ]\n",
       "   [-1.        ]\n",
       "   [-1.        ]\n",
       "   [-1.        ]\n",
       "   [-1.        ]\n",
       "   [-1.        ]\n",
       "   [-1.        ]\n",
       "   [-1.        ]\n",
       "   [-1.        ]\n",
       "   [-1.        ]\n",
       "   [-1.        ]\n",
       "   [-1.        ]\n",
       "   [-1.        ]\n",
       "   [-1.        ]\n",
       "   [-1.        ]\n",
       "   [-1.        ]\n",
       "   [-1.        ]\n",
       "   [-1.        ]\n",
       "   [-1.        ]\n",
       "   [-1.        ]\n",
       "   [-1.        ]\n",
       "   [-1.        ]\n",
       "   [-1.        ]\n",
       "   [-1.        ]\n",
       "   [-1.        ]\n",
       "   [-1.        ]\n",
       "   [-1.        ]\n",
       "   [-1.        ]\n",
       "   [-1.        ]\n",
       "   [-1.        ]]]\n",
       " <NDArray 1x100x1 @cpu(0)>,\n",
       " \n",
       " [[[  5.254135   47.499527  422.03156   430.92798  ]\n",
       "   [  5.7774944 116.91075    43.78002   190.08043  ]\n",
       "   [ -1.         -1.         -1.         -1.       ]\n",
       "   [ -1.         -1.         -1.         -1.       ]\n",
       "   [ -1.         -1.         -1.         -1.       ]\n",
       "   [ -1.         -1.         -1.         -1.       ]\n",
       "   [ -1.         -1.         -1.         -1.       ]\n",
       "   [ -1.         -1.         -1.         -1.       ]\n",
       "   [ -1.         -1.         -1.         -1.       ]\n",
       "   [ -1.         -1.         -1.         -1.       ]\n",
       "   [ -1.         -1.         -1.         -1.       ]\n",
       "   [ -1.         -1.         -1.         -1.       ]\n",
       "   [ -1.         -1.         -1.         -1.       ]\n",
       "   [ -1.         -1.         -1.         -1.       ]\n",
       "   [ -1.         -1.         -1.         -1.       ]\n",
       "   [ -1.         -1.         -1.         -1.       ]\n",
       "   [ -1.         -1.         -1.         -1.       ]\n",
       "   [ -1.         -1.         -1.         -1.       ]\n",
       "   [ -1.         -1.         -1.         -1.       ]\n",
       "   [ -1.         -1.         -1.         -1.       ]\n",
       "   [ -1.         -1.         -1.         -1.       ]\n",
       "   [ -1.         -1.         -1.         -1.       ]\n",
       "   [ -1.         -1.         -1.         -1.       ]\n",
       "   [ -1.         -1.         -1.         -1.       ]\n",
       "   [ -1.         -1.         -1.         -1.       ]\n",
       "   [ -1.         -1.         -1.         -1.       ]\n",
       "   [ -1.         -1.         -1.         -1.       ]\n",
       "   [ -1.         -1.         -1.         -1.       ]\n",
       "   [ -1.         -1.         -1.         -1.       ]\n",
       "   [ -1.         -1.         -1.         -1.       ]\n",
       "   [ -1.         -1.         -1.         -1.       ]\n",
       "   [ -1.         -1.         -1.         -1.       ]\n",
       "   [ -1.         -1.         -1.         -1.       ]\n",
       "   [ -1.         -1.         -1.         -1.       ]\n",
       "   [ -1.         -1.         -1.         -1.       ]\n",
       "   [ -1.         -1.         -1.         -1.       ]\n",
       "   [ -1.         -1.         -1.         -1.       ]\n",
       "   [ -1.         -1.         -1.         -1.       ]\n",
       "   [ -1.         -1.         -1.         -1.       ]\n",
       "   [ -1.         -1.         -1.         -1.       ]\n",
       "   [ -1.         -1.         -1.         -1.       ]\n",
       "   [ -1.         -1.         -1.         -1.       ]\n",
       "   [ -1.         -1.         -1.         -1.       ]\n",
       "   [ -1.         -1.         -1.         -1.       ]\n",
       "   [ -1.         -1.         -1.         -1.       ]\n",
       "   [ -1.         -1.         -1.         -1.       ]\n",
       "   [ -1.         -1.         -1.         -1.       ]\n",
       "   [ -1.         -1.         -1.         -1.       ]\n",
       "   [ -1.         -1.         -1.         -1.       ]\n",
       "   [ -1.         -1.         -1.         -1.       ]\n",
       "   [ -1.         -1.         -1.         -1.       ]\n",
       "   [ -1.         -1.         -1.         -1.       ]\n",
       "   [ -1.         -1.         -1.         -1.       ]\n",
       "   [ -1.         -1.         -1.         -1.       ]\n",
       "   [ -1.         -1.         -1.         -1.       ]\n",
       "   [ -1.         -1.         -1.         -1.       ]\n",
       "   [ -1.         -1.         -1.         -1.       ]\n",
       "   [ -1.         -1.         -1.         -1.       ]\n",
       "   [ -1.         -1.         -1.         -1.       ]\n",
       "   [ -1.         -1.         -1.         -1.       ]\n",
       "   [ -1.         -1.         -1.         -1.       ]\n",
       "   [ -1.         -1.         -1.         -1.       ]\n",
       "   [ -1.         -1.         -1.         -1.       ]\n",
       "   [ -1.         -1.         -1.         -1.       ]\n",
       "   [ -1.         -1.         -1.         -1.       ]\n",
       "   [ -1.         -1.         -1.         -1.       ]\n",
       "   [ -1.         -1.         -1.         -1.       ]\n",
       "   [ -1.         -1.         -1.         -1.       ]\n",
       "   [ -1.         -1.         -1.         -1.       ]\n",
       "   [ -1.         -1.         -1.         -1.       ]\n",
       "   [ -1.         -1.         -1.         -1.       ]\n",
       "   [ -1.         -1.         -1.         -1.       ]\n",
       "   [ -1.         -1.         -1.         -1.       ]\n",
       "   [ -1.         -1.         -1.         -1.       ]\n",
       "   [ -1.         -1.         -1.         -1.       ]\n",
       "   [ -1.         -1.         -1.         -1.       ]\n",
       "   [ -1.         -1.         -1.         -1.       ]\n",
       "   [ -1.         -1.         -1.         -1.       ]\n",
       "   [ -1.         -1.         -1.         -1.       ]\n",
       "   [ -1.         -1.         -1.         -1.       ]\n",
       "   [ -1.         -1.         -1.         -1.       ]\n",
       "   [ -1.         -1.         -1.         -1.       ]\n",
       "   [ -1.         -1.         -1.         -1.       ]\n",
       "   [ -1.         -1.         -1.         -1.       ]\n",
       "   [ -1.         -1.         -1.         -1.       ]\n",
       "   [ -1.         -1.         -1.         -1.       ]\n",
       "   [ -1.         -1.         -1.         -1.       ]\n",
       "   [ -1.         -1.         -1.         -1.       ]\n",
       "   [ -1.         -1.         -1.         -1.       ]\n",
       "   [ -1.         -1.         -1.         -1.       ]\n",
       "   [ -1.         -1.         -1.         -1.       ]\n",
       "   [ -1.         -1.         -1.         -1.       ]\n",
       "   [ -1.         -1.         -1.         -1.       ]\n",
       "   [ -1.         -1.         -1.         -1.       ]\n",
       "   [ -1.         -1.         -1.         -1.       ]\n",
       "   [ -1.         -1.         -1.         -1.       ]\n",
       "   [ -1.         -1.         -1.         -1.       ]\n",
       "   [ -1.         -1.         -1.         -1.       ]\n",
       "   [ -1.         -1.         -1.         -1.       ]\n",
       "   [ -1.         -1.         -1.         -1.       ]]]\n",
       " <NDArray 1x100x4 @cpu(0)>)"
      ]
     },
     "execution_count": 13,
     "metadata": {},
     "output_type": "execute_result"
    }
   ],
   "source": [
    "net(x)"
   ]
  },
  {
   "cell_type": "markdown",
   "metadata": {},
   "source": [
    "We see that the output consists of three arrays: detected bounding boxes, the corresponding predicted class IDs, and confidence scores. Their shapes are (batch_size, num_bboxes, 1), (batch_size, num_bboxes, 1), and (batch_size, num_bboxes, 4), respectively.\n",
    "\n",
    "Let's store them as variables and then analyze the output."
   ]
  },
  {
   "cell_type": "code",
   "execution_count": 19,
   "metadata": {},
   "outputs": [],
   "source": [
    "class_IDs, scores, bounding_boxs = net(x)"
   ]
  },
  {
   "cell_type": "markdown",
   "metadata": {},
   "source": [
    "Let's go through the scores and print the ones with greater than 80% confidence."
   ]
  },
  {
   "cell_type": "code",
   "execution_count": 20,
   "metadata": {},
   "outputs": [
    {
     "name": "stdout",
     "output_type": "stream",
     "text": [
      "Class ID : 14.0 score : 0.992933452129364\n"
     ]
    }
   ],
   "source": [
    "for c, s in zip(class_IDs.reshape(-1,), scores.reshape(-1,)):\n",
    "    if s.asscalar() < 0.8:\n",
    "        break\n",
    "    print (\"Class ID : {}\".format(c.asscalar()), \"score : {}\".format(s.asscalar()))"
   ]
  },
  {
   "cell_type": "markdown",
   "metadata": {},
   "source": [
    "We see that class 14 is the only class listed, and the model is confident that it is the correct classification with a confidence score of 0.99. What is it?\n"
   ]
  },
  {
   "cell_type": "code",
   "execution_count": 23,
   "metadata": {},
   "outputs": [
    {
     "data": {
      "text/plain": [
       "'person'"
      ]
     },
     "execution_count": 23,
     "metadata": {},
     "output_type": "execute_result"
    }
   ],
   "source": [
    "net.classes[14]"
   ]
  },
  {
   "cell_type": "markdown",
   "metadata": {},
   "source": [
    "So it is certain that I am a person."
   ]
  }
 ],
 "metadata": {
  "kernelspec": {
   "display_name": "conda_mxnet_p36",
   "language": "python",
   "name": "conda_mxnet_p36"
  },
  "language_info": {
   "codemirror_mode": {
    "name": "ipython",
    "version": 3
   },
   "file_extension": ".py",
   "mimetype": "text/x-python",
   "name": "python",
   "nbconvert_exporter": "python",
   "pygments_lexer": "ipython3",
   "version": "3.6.10"
  }
 },
 "nbformat": 4,
 "nbformat_minor": 4
}
